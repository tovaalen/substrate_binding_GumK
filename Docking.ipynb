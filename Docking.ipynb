{
  "cells": [
    {
      "cell_type": "markdown",
      "metadata": {
        "id": "view-in-github",
        "colab_type": "text"
      },
      "source": [
        "<a href=\"https://colab.research.google.com/github/tovaalen/substrate_binding_GumK/blob/main/Docking.ipynb\" target=\"_parent\"><img src=\"https://colab.research.google.com/assets/colab-badge.svg\" alt=\"Open In Colab\"/></a>"
      ]
    },
    {
      "cell_type": "markdown",
      "source": [
        "# Molecular docking to generate an ensemble of docked poses"
      ],
      "metadata": {
        "id": "pSiiEhIr0-K1"
      }
    },
    {
      "cell_type": "markdown",
      "source": [
        "This google colab is written to generate an ensemble of docked poses using the docking program GNINA (https://github.com/gnina/gnina).\n",
        "\n",
        "\n",
        "Upload the needed strucutral files (in pdb format) and add the necessary information in the cell below, before running all the cells.\n",
        "\n",
        "\n",
        "The distance between C6 of the sugar of the ligand and residue 307 of the protein, and the dihedrals, will only be calculated if the ligand file is named 'udp_glcA.pdb' or 'udp_glc.pdb' (e.i. the ligand is UDP-GlcA or UDP-Glc)"
      ],
      "metadata": {
        "id": "SSDIkQcYy-FN"
      }
    },
    {
      "cell_type": "code",
      "source": [
        "#@title Add all information about the docking, then run all cells\n",
        "\n",
        "#import re\n",
        "#import hashlib\n",
        "#import random\n",
        "\n",
        "#from sys import version_info\n",
        "#python_version = f\"{version_info.major}.{version_info.minor}\"\n",
        "\n",
        "#def add_hash(x,y):\n",
        "#  return x+\"_\"+hashlib.sha1(y.encode()).hexdigest()[:5]\n",
        "\n",
        "jobname = 'test' #@param {type:\"string\"}\n",
        "#@markdown **protein_names** and **protein_files**: The name of the protein and the filename of the protein file. Note: you can only dock to one protein at a time.\n",
        "protein_name = 'WT conformation 1' #@param {type:\"string\"}\n",
        "protein_file = 'donor_domain.pdb' #@param {type:\"string\"}\n",
        "#@markdown **protein_atom**: The number of the protein atom to calc the distance to C6 of the sugar when docking UDP-GlcA and UDP-Glc. Can be found in the PDB file.\n",
        "protein_atom = 1356 #@param {type:\"integer\"}\n",
        "#@markdown **ligand_names** and **ligand_files**: The name of the ligands and corresponding structural file. If you want to dock multiple different ligands, seperate the ligand names and file names with a comma (note: any spaces in the name will be removed)\n",
        "ligand_names = 'UDP-GlcA, UDP, UDP-Glc' #@param {type:\"string\"}\n",
        "ligand_files = 'udp_glcA.pdb, udp.pdb, udp_glc.pdb' #@param {type:\"string\"}\n",
        "#@markdown **autobox:** the filename of the autobox to use\n",
        "autobox = 'WT1_autobox.pdb' #@param {type:\"string\"}\n",
        "#@markdown **calc_rmsd:** check if you want to calculate the RMSD to a reference file. If so, provide the file name of the reference strucutre in **reference_structure**\n",
        "calc_rmsd = True #@param {type:\"boolean\"}\n",
        "reference_structure = 'crystal_uridine.pdb' #@param {type:\"string\"}\n",
        "\n",
        "#@markdown **download:** check if you want the files to be downloaded (e.i. the sdf file with the docked ligands and an excel sheet with the corresponding scores and calculated attributes)\n",
        "download = True #@param {type:\"boolean\"}\n",
        "\n",
        "#@markdown Number of docking reruns (the top 20 poses from each run are saved)\n",
        "reruns = 10 #@param {type:\"integer\"}\n",
        "\n",
        "ligand_names = [word.strip() for word in ligand_names.split(',')]\n",
        "ligand_files = [word.strip() for word in ligand_files.split(',')]"
      ],
      "metadata": {
        "id": "GajS9otUiCjQ",
        "cellView": "form"
      },
      "execution_count": null,
      "outputs": []
    },
    {
      "cell_type": "markdown",
      "metadata": {
        "id": "c29rNE9QNy_w"
      },
      "source": [
        "### Setup"
      ]
    },
    {
      "cell_type": "code",
      "source": [
        "import sys\n",
        "\n",
        "''' functions used in the script '''\n",
        "\n",
        "def atom_pos(mol, i):\n",
        "  pos = mol.GetConformer().GetAtomPosition(i)\n",
        "  p = [pos.x,pos.y,pos.z]\n",
        "  return np.array(p)\n",
        "\n",
        "def is_module_imported(module_name):\n",
        "    return module_name in sys.modules"
      ],
      "metadata": {
        "id": "8q_jeCNKgy6V"
      },
      "execution_count": null,
      "outputs": []
    },
    {
      "cell_type": "code",
      "source": [
        "# import all packages needed, if not already done\n",
        "if not is_module_imported('rdkit'):\n",
        "  for i in range(2):\n",
        "    !apt install openbabel --quiet\n",
        "    from google.colab import files\n",
        "    import os\n",
        "    import shutil\n",
        "    import pandas as pd\n",
        "    !pip install rdkit-pypi\n",
        "    !wget https://downloads.sourceforge.net/project/smina/smina.static\n",
        "    !wget https://github.com/gnina/gnina/releases/download/v1.0.1/gnina\n",
        "    !chmod +x gnina # make executable\n",
        "\n",
        "    !pip install MDAnalysis\n",
        "    import MDAnalysis as mda\n",
        "    from MDAnalysis.lib import distances\n",
        "    import math\n",
        "\n",
        "  import rdkit\n",
        "  from rdkit import Chem\n",
        "  from rdkit.Chem import SDWriter\n",
        "  import os\n",
        "  import pandas as pd\n",
        "  import seaborn as sns\n",
        "  import matplotlib.pyplot as plt\n",
        "  import shutil\n",
        "  import numpy as np\n"
      ],
      "metadata": {
        "id": "NR23gMgMfoce"
      },
      "execution_count": null,
      "outputs": []
    },
    {
      "cell_type": "markdown",
      "source": [
        "## Docking"
      ],
      "metadata": {
        "id": "Z7ROEDrHC65k"
      }
    },
    {
      "cell_type": "code",
      "source": [
        "runs = range(1, reruns+1)\n",
        "id = range(1, reruns*20+1)\n",
        "\n",
        "# prepare all files\n",
        "protein_mol = Chem.MolFromPDBFile(protein_file, removeHs=False)\n",
        "\n",
        "os.mkdir(jobname)\n",
        "\n",
        "new_path = os.path.join(jobname, 'protein.pdb')\n",
        "shutil.copy(protein_file, new_path)\n",
        "\n",
        "new_path = os.path.join(jobname, 'autobox.pdb')\n",
        "shutil.copy(autobox, new_path)\n",
        "\n",
        "if reference_structure is not None:\n",
        "  new_path = os.path.join(jobname, 'reference_structure.pdb')\n",
        "  shutil.copy(reference_structure, new_path)\n",
        "\n",
        "os.chdir(jobname)\n",
        "\n",
        "for name, filename in zip(ligand_names, ligand_files):\n",
        "  os.mkdir(name)\n",
        "  old_path = os.path.join('..', filename)\n",
        "  new_path = os.path.join(name, 'ligand.pdb')\n",
        "  shutil.copy(old_path, new_path)\n",
        "\n",
        "!obabel protein.pdb -p 7 -xr -Oprotein.pdb #protonation at pH 7, -xr means keep rigid"
      ],
      "metadata": {
        "id": "7F0c3KxlC9mf"
      },
      "execution_count": null,
      "outputs": []
    },
    {
      "cell_type": "code",
      "source": [
        "for name, filename in zip(ligand_names, ligand_files):\n",
        "  os.chdir(name)\n",
        "\n",
        "  !obabel ligand.pdb -Oligand.pdb\n",
        "\n",
        "  all_poses = []\n",
        "  scores_df = pd.DataFrame()\n",
        "\n",
        "  for r in runs:\n",
        "    # run docking with gnina\n",
        "    !../../gnina -r ../protein.pdb -l ligand.pdb --autobox_ligand ../autobox.pdb -o docked_ligands.sdf.gz --exhaustiveness 16 --autobox_extend 1 --min_rmsd_filter 0.1 --num_modes 20\n",
        "\n",
        "    #unzip file with docked poses\n",
        "    !gunzip docked_ligands.sdf.gz\n",
        "\n",
        "    # rescore with Vinardo\n",
        "    !../../gnina --score_only -r ../protein.pdb -l docked_ligands.sdf --scoring vinardo -o rescored_vinardo.sdf --quiet\n",
        "\n",
        "    # calculate RMSD\n",
        "    if calc_rmsd:\n",
        "      rmsd = []\n",
        "      !obrms -f ../reference_structure.pdb docked_ligands.sdf > RMSD.txt\n",
        "      with open('RMSD.txt', 'r') as file:\n",
        "        lines = file.readlines()\n",
        "        for line in lines:\n",
        "          rmsd.append(float(line.split(':')[1].strip()))\n",
        "      os.remove('RMSD.txt')\n",
        "    else:\n",
        "      rmsd = ['NA'] * 20\n",
        "\n",
        "    # add docked poses to list with all poses\n",
        "    supplier_poses = Chem.SDMolSupplier('docked_ligands.sdf')\n",
        "    for mol in supplier_poses:\n",
        "      all_poses.append(mol)\n",
        "    os.remove('docked_ligands.sdf')\n",
        "\n",
        "    supplier_poses_vinardo = Chem.SDMolSupplier('rescored_vinardo.sdf')\n",
        "    os.remove('rescored_vinardo.sdf')\n",
        "\n",
        "    #coordinates of atoms in protein needed to calc distance\n",
        "    a = protein_mol.GetConformer().GetAtomPosition(protein_atom - 1) # -1 because rdkit starts fr 0\n",
        "    p_protein = [a.x,a.y,a.z]\n",
        "\n",
        "    dist = []\n",
        "    dihedral1 = []\n",
        "    dihedral2 = []\n",
        "\n",
        "    # If the ligand is UDP-GlcA or UDP-Glc => calc distance and dihedral angles\n",
        "    if filename == 'udp_glcA.pdb' or filename == 'udp_glc.pdb':\n",
        "      if filename == 'udp_glcA.pdb':\n",
        "        C6_atom = 36 # atom number for C6 atom in sugar, to calc distance\n",
        "        dihedral1_atoms = [32, 24, 21, 20] # atoms to calc dihedral angles\n",
        "        dihedral2_atoms = [25, 32, 24, 21]\n",
        "      else:\n",
        "        C6_atom = 35 # atom number for C6 atom in sugar, to calc distance\n",
        "        dihedral1_atoms = [33, 24, 21, 20] # atoms to calc dihedral angles\n",
        "        dihedral2_atoms = [25, 33, 24, 21]\n",
        "      for mol in supplier_poses:\n",
        "        # calc distance\n",
        "        pos = mol.GetConformer().GetAtomPosition(C6_atom)\n",
        "        p_C6 = [pos.x,pos.y,pos.z]\n",
        "        dist.append(math.dist(p_C6,p_protein))\n",
        "\n",
        "        # calc dihedral 1\n",
        "        a1 = atom_pos(mol, dihedral1_atoms[0])\n",
        "        a2 = atom_pos(mol, dihedral1_atoms[1])\n",
        "        a3 = atom_pos(mol, dihedral1_atoms[2])\n",
        "        a4 = atom_pos(mol, dihedral1_atoms[3])\n",
        "        angle1 = distances.calc_dihedrals(a1,a2,a3,a4)\n",
        "        dihedral1.append(math.degrees(angle1))\n",
        "\n",
        "        # calc dihedral 2\n",
        "        a1 = atom_pos(mol, dihedral2_atoms[0])\n",
        "        a2 = atom_pos(mol, dihedral2_atoms[1])\n",
        "        a3 = atom_pos(mol, dihedral2_atoms[2])\n",
        "        a4 = atom_pos(mol, dihedral2_atoms[3])\n",
        "        angle2 = distances.calc_dihedrals(a1,a2,a3,a4)\n",
        "        dihedral2.append(math.degrees(angle2))\n",
        "\n",
        "    else:\n",
        "      # if the ligand is not UDP-GlcA or UDP-Glc, no dihedral angles or distances are calculated\n",
        "      dist = ['NA'] *20\n",
        "      dihedral1 = ['NA'] *20\n",
        "      dihedral2 = ['NA'] *20\n",
        "\n",
        "    scores = []\n",
        "\n",
        "    for mol1, mol2, line, d, dh1, dh2 in zip(supplier_poses, supplier_poses_vinardo, rmsd, dist, dihedral1, dihedral2):\n",
        "\n",
        "      scores.append({\n",
        "          'Protein': protein_name,\n",
        "          'Substrate': name,\n",
        "          'Run': r,\n",
        "          'CNNscore': float(mol1.GetProp('CNNscore')),\n",
        "          'CNNaffinity': float(mol1.GetProp('CNNaffinity')),\n",
        "          'Vina': float(mol1.GetProp('minimizedAffinity')),\n",
        "          'Vinardo': float(mol2.GetProp('minimizedAffinity')),\n",
        "          'RMSD': line, #float(line.split(':')[1].strip()), ska ev vara float(line.split(' ')[2].strip())\n",
        "          'distance' : d,\n",
        "          'dihedral1' : dh1,\n",
        "          'dihedral2' : dh2\n",
        "          })\n",
        "\n",
        "    scores_df = pd.concat([scores_df, pd.DataFrame(scores)], ignore_index=True)\n",
        "\n",
        "  scores_df.insert(3, 'id', id)\n",
        "  scores_df.to_excel('score.xlsx', index=False)\n",
        "\n",
        "  sdf_writer = Chem.SDWriter('docked_poses.sdf')\n",
        "  for i, mol in zip(id, all_poses):\n",
        "    if mol is not None:\n",
        "      mol.SetProp('_Name', str(i)) # Sets the name to the id number\n",
        "      sdf_writer.write(mol) # Append the molecule to the SDF file\n",
        "\n",
        "  os.chdir('..')\n",
        "\n",
        "if download:\n",
        "  #download files\n",
        "  !zip -r download.zip *\n",
        "  os.chdir('..')\n",
        "  old_zip_file = jobname + '/download.zip'\n",
        "  new_zip_file = jobname + '.zip'\n",
        "  os.rename(old_zip_file, new_zip_file)\n",
        "  files.download(new_zip_file)"
      ],
      "metadata": {
        "id": "tMhKqYp-ENEZ"
      },
      "execution_count": null,
      "outputs": []
    }
  ],
  "metadata": {
    "colab": {
      "provenance": [],
      "gpuType": "T4",
      "include_colab_link": true
    },
    "kernelspec": {
      "display_name": "Python 3",
      "name": "python3"
    },
    "language_info": {
      "name": "python"
    },
    "accelerator": "GPU"
  },
  "nbformat": 4,
  "nbformat_minor": 0
}